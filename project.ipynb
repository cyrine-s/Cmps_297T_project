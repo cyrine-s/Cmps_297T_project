{
 "cells": [
  {
   "cell_type": "code",
   "execution_count": null,
   "id": "6549c10e",
   "metadata": {},
   "outputs": [],
   "source": [
    "pip install jiwer"
   ]
  },
  {
   "cell_type": "code",
   "execution_count": null,
   "id": "0a530833",
   "metadata": {},
   "outputs": [],
   "source": [
    "import numpy as np\n",
    "import jiwer\n",
    "import pandas as pd  # data processing, CSV file I/O (e.g. pd.read_csv)\n",
    "import matplotlib.pyplot as plt\n",
    "from sklearn.model_selection import train_test_split\n",
    "import math\n",
    "import unicodedata\n",
    "import csv"
   ]
  },
  {
   "cell_type": "code",
   "execution_count": null,
   "id": "2b9f7fa2",
   "metadata": {},
   "outputs": [],
   "source": [
    "df=pd.read_csv(r'C:\\\\Users\\user\\Downloads\\TranscriptionFinal.csv', encoding='latin1')\n",
    "df.head(45)"
   ]
  },
  {
   "cell_type": "code",
   "execution_count": null,
   "id": "23284f16",
   "metadata": {},
   "outputs": [],
   "source": [
    "ground_truth=df.content.values.tolist()\n",
    "google_hypothesis=df.google_transcription.values.tolist()\n",
    "microsoft_hypothesis=df.msft_transcription.values.tolist()\n",
    "amazon_hypothesis=df.amazon_transcription.values.tolist()\n",
    "\n",
    "ASR=[google_hypothesis, microsoft_hypothesis, amazon_hypothesis]\n",
    "ASR_hyp=[]+google_hypothesis+microsoft_hypothesis+amazon_hypothesis\n",
    "\n",
    "r=len(ground_truth)"
   ]
  },
  {
   "cell_type": "code",
   "execution_count": null,
   "id": "4b2cf5ea",
   "metadata": {},
   "outputs": [],
   "source": [
    "#pre_processing the data\n",
    "for i in range(len(ASR)):  \n",
    "    ASR[i]=jiwer.RemoveMultipleSpaces()(ASR[i])\n",
    "    ASR[i]=jiwer.RemoveWhiteSpace(replace_by_space=True)(ASR[i])\n",
    "    ASR[i]=jiwer.ToLowerCase()(ASR[i])\n",
    "    ASR[i]=jiwer.RemovePunctuation()(ASR[i])\n",
    "    for j in range(r):\n",
    "        ASR[i][j] = ASR[i][j].replace('\\xa0', ' ')\n"
   ]
  },
  {
   "cell_type": "code",
   "execution_count": null,
   "id": "870287b2",
   "metadata": {},
   "outputs": [],
   "source": [
    "def wer(ref, hyp ,debug=True):\n",
    "    r = ref.split()\n",
    "    h = hyp.split()\n",
    "    #costs will holds the costs, like in the Levenshtein distance algorithm\n",
    "    costs = [[0 for inner in range(len(h)+1)] for outer in range(len(r)+1)]\n",
    "    # backtrace will hold the operations we've done.\n",
    "    # so we could later backtrace, like the WER algorithm requires us to.\n",
    "    backtrace = [[0 for inner in range(len(h)+1)] for outer in range(len(r)+1)]\n",
    " \n",
    "    OP_OK = 0\n",
    "    OP_SUB = 1\n",
    "    OP_INS = 2\n",
    "    OP_DEL = 3\n",
    "    DEL_PENALTY = 1\n",
    "    INS_PENALTY = 1\n",
    "    SUB_PENALTY = 1\n",
    "    \n",
    "    # First column represents the case where we achieve zero\n",
    "    # hypothesis words by deleting all reference words.\n",
    "    for i in range(1, len(r)+1):\n",
    "        costs[i][0] = DEL_PENALTY*i\n",
    "        backtrace[i][0] = OP_DEL\n",
    "    \n",
    "    # First row represents the case where we achieve the hypothesis\n",
    "    # by inserting all hypothesis words into a zero-length reference.\n",
    "    for j in range(1, len(h) + 1):\n",
    "        costs[0][j] = INS_PENALTY * j\n",
    "        backtrace[0][j] = OP_INS\n",
    "    \n",
    "    # computation\n",
    "    for i in range(1, len(r)+1):\n",
    "        for j in range(1, len(h)+1):\n",
    "            if r[i-1] == h[j-1]:\n",
    "                costs[i][j] = costs[i-1][j-1]\n",
    "                backtrace[i][j] = OP_OK\n",
    "            else:\n",
    "                substitutionCost = costs[i-1][j-1] + SUB_PENALTY # penalty is always 1\n",
    "                insertionCost    = costs[i][j-1] + INS_PENALTY   # penalty is always 1\n",
    "                deletionCost     = costs[i-1][j] + DEL_PENALTY   # penalty is always 1\n",
    "                 \n",
    "                costs[i][j] = min(substitutionCost, insertionCost, deletionCost)\n",
    "                if costs[i][j] == substitutionCost:\n",
    "                    backtrace[i][j] = OP_SUB\n",
    "                elif costs[i][j] == insertionCost:\n",
    "                    backtrace[i][j] = OP_INS\n",
    "                else:\n",
    "                    backtrace[i][j] = OP_DEL\n",
    "                 \n",
    "    # back trace though the best route:\n",
    "    i = len(r)\n",
    "    j = len(h)\n",
    "    numSub = 0\n",
    "    numDel = 0\n",
    "    numIns = 0\n",
    "    numCor = 0\n",
    "    if debug:\n",
    "    #    print(\"OP\\tREF\\tHYP\")\n",
    "        lines = []\n",
    "    while i > 0 or j > 0:\n",
    "        if backtrace[i][j] == OP_OK:\n",
    "            numCor += 1\n",
    "            i-=1\n",
    "            j-=1\n",
    "            if debug:\n",
    "                lines.append(\"OK\\t\" + r[i]+\"\\t\"+h[j])\n",
    "        elif backtrace[i][j] == OP_SUB:\n",
    "            numSub +=1\n",
    "            i-=1\n",
    "            j-=1\n",
    "            if debug:\n",
    "                lines.append(\"SUB\\t\" + r[i]+\"\\t\"+h[j])\n",
    "        elif backtrace[i][j] == OP_INS:\n",
    "            numIns += 1\n",
    "            j-=1\n",
    "            if debug:\n",
    "                lines.append(\"INS\\t\" + \"****\" + \"\\t\" + h[j])\n",
    "        elif backtrace[i][j] == OP_DEL:\n",
    "            numDel += 1\n",
    "            i-=1\n",
    "            if debug:\n",
    "                lines.append(\"DEL\\t\" + r[i]+\"\\t\"+\"****\")\n",
    "    wer_result = round( (numSub + numDel + numIns) / (float) (len(r)), 3)\n",
    "    return wer_result, numCor, numSub, numIns, numDel, len(r);"
   ]
  },
  {
   "cell_type": "code",
   "execution_count": null,
   "id": "bac865ba",
   "metadata": {},
   "outputs": [],
   "source": [
    "for i in range(len(ASR)):\n",
    "    print(\"ASR number\",i)\n",
    "    Wer=[]\n",
    "    NumCor=[]\n",
    "    NumSub=[]\n",
    "    NumIns=[]\n",
    "    NumDel=[]\n",
    "    WCount=[]\n",
    "    for j in range(r):\n",
    "        wer_result, numCor, numSub, numIns, numDel, wCount=wer(ground_truth[j], ASR[i][j] ,debug=True)\n",
    "        #print(\"for recording number\",i,\" the word error rate is\", wer(ground_truth[i], google_hypothesis[i] ,debug=True))\n",
    "        Wer.append(wer_result)\n",
    "        NumCor.append(numCor)\n",
    "        NumSub.append(numSub)\n",
    "        NumIns.append(numIns)\n",
    "        NumDel.append(numDel)    \n",
    "        WCount.append(wCount)\n",
    "    print(\"this is the WER:\",Wer)\n",
    "    print(\"this is the number of corecct words:\",NumCor)\n",
    "    print(\"this is the number of subsitutions:\",NumSub)\n",
    "    print(\"this is the number of insertions:\",NumIns)\n",
    "    print(\"this is the number of deletions:\",NumDel)\n",
    "    print(\"this is the number of words:\",WCount)"
   ]
  },
  {
   "cell_type": "code",
   "execution_count": null,
   "id": "eab2a23a",
   "metadata": {},
   "outputs": [],
   "source": [
    "def wers(refs, hyps):\n",
    "    numSub = 0\n",
    "    numDel = 0\n",
    "    numCor = 0\n",
    "    numIns = 0\n",
    "    numCount = 0\n",
    "    for ref, hyp in zip(refs, hyps):\n",
    "        wer_result, numCor, numSub, numIns, numDel, wCount = wer(ref, hyp, False)\n",
    "        numSub += numSub\n",
    "        numDel += numDel\n",
    "        numCor += numCor\n",
    "        numIns += numIns\n",
    "        numCount += wCount\n",
    " \n",
    "    return round( (numSub + numDel + numIns) / (float) (numCount), 3)"
   ]
  },
  {
   "cell_type": "code",
   "execution_count": null,
   "id": "9c2c2918",
   "metadata": {},
   "outputs": [],
   "source": [
    "for i in range(len(ASR)):\n",
    "    avg_wer=wers(ground_truth, ASR[i])\n",
    "    print(avg_wer)"
   ]
  },
  {
   "cell_type": "code",
   "execution_count": null,
   "id": "4a583a7d",
   "metadata": {},
   "outputs": [],
   "source": [
    "avg_wer=wers(ground_truth,ASR_hyp)\n",
    "print(avg_wer)"
   ]
  }
 ],
 "metadata": {
  "kernelspec": {
   "display_name": "Python 3 (ipykernel)",
   "language": "python",
   "name": "python3"
  },
  "language_info": {
   "codemirror_mode": {
    "name": "ipython",
    "version": 3
   },
   "file_extension": ".py",
   "mimetype": "text/x-python",
   "name": "python",
   "nbconvert_exporter": "python",
   "pygments_lexer": "ipython3",
   "version": "3.9.13"
  }
 },
 "nbformat": 4,
 "nbformat_minor": 5
}
